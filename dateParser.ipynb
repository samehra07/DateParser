{
 "cells": [
  {
   "cell_type": "code",
   "execution_count": null,
   "metadata": {
    "collapsed": true
   },
   "outputs": [],
   "source": [
    "import datetime as dt\n",
    "from dateutil import parser\n",
    "import re\n",
    "\n",
    "def dateParser(txt): \n",
    "    month_name = r'January|Jan|February|Feb|March|Mar|April|Apr|May|June|Jun|July|Jul|August|Aug|September|Sept|Sep|October|Oct|November|Nov|December|Dec'\n",
    "    fmts = ('%b%d%Y','%B%d%Y','%Y%m%d','%m%d%y','%y%m%d','%m%d%Y','%Y%m%d','%d%m%y','%d%m%Y')    \n",
    "    t=None\n",
    "    \n",
    "    if any(re.findall(month_name,txt,re.IGNORECASE)):\n",
    "        z=re.search(month_name,txt)\n",
    "        y=z.group(0)\n",
    "        x=re.sub(month_name, \"\", txt)\n",
    "        x=re.sub(r\"v2\",\"\",x)\n",
    "        x=re.sub(r\"\\D\", \"\", x)\n",
    "        if len (x) > 15:\n",
    "            final = x[0:8]\n",
    "        else:\n",
    "            final = y+x\n",
    "    else:\n",
    "        x=re.sub(r\"v2\",\"\",txt)\n",
    "        final=re.sub(r\"\\D\", \"\", x)\n",
    "        if len(final)> 8:\n",
    "            final = final[0:8]\n",
    "\n",
    "    for fmt in fmts:\n",
    "        try:\n",
    "            t = dt.datetime.strptime(final, fmt).date()\n",
    "            if t.year > 2017:\n",
    "                t = None\n",
    "            elif t.year >= 2011:\n",
    "                break\n",
    "        except ValueError as err:\n",
    "            pass\n",
    "    return t    "
   ]
  }
 ],
 "metadata": {
  "kernelspec": {
   "display_name": "Python 2",
   "language": "python",
   "name": "python2"
  },
  "language_info": {
   "codemirror_mode": {
    "name": "ipython",
    "version": 2
   },
   "file_extension": ".py",
   "mimetype": "text/x-python",
   "name": "python",
   "nbconvert_exporter": "python",
   "pygments_lexer": "ipython2",
   "version": "2.7.13"
  }
 },
 "nbformat": 4,
 "nbformat_minor": 2
}
